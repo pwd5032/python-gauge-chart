{
 "cells": [
  {
   "cell_type": "markdown",
   "metadata": {},
   "source": [
    "# Gauge Visual for Numeric Data"
   ]
  },
  {
   "cell_type": "code",
   "execution_count": 16,
   "metadata": {},
   "outputs": [],
   "source": [
    "%matplotlib inline"
   ]
  },
  {
   "cell_type": "code",
   "execution_count": 6,
   "metadata": {},
   "outputs": [
    {
     "ename": "FileNotFoundError",
     "evalue": "[WinError 2] The system cannot find the file specified: 'C:/Users/P_W_D/PythonEditorWrapper_585200fa-6299-4cd7-a5c0-98a2540a344c'",
     "output_type": "error",
     "traceback": [
      "\u001b[1;31m---------------------------------------------------------------------------\u001b[0m",
      "\u001b[1;31mFileNotFoundError\u001b[0m                         Traceback (most recent call last)",
      "\u001b[1;32m~\\AppData\\Local\\Temp/ipykernel_3756/703496288.py\u001b[0m in \u001b[0;36m<module>\u001b[1;34m\u001b[0m\n\u001b[0;32m      5\u001b[0m \u001b[1;32mimport\u001b[0m \u001b[0mpandas\u001b[0m \u001b[1;32mas\u001b[0m \u001b[0mpd\u001b[0m\u001b[1;33m\u001b[0m\u001b[1;33m\u001b[0m\u001b[0m\n\u001b[0;32m      6\u001b[0m \u001b[1;33m\u001b[0m\u001b[0m\n\u001b[1;32m----> 7\u001b[1;33m \u001b[0mos\u001b[0m\u001b[1;33m.\u001b[0m\u001b[0mchdir\u001b[0m\u001b[1;33m(\u001b[0m\u001b[1;34mu'C:/Users/P_W_D/PythonEditorWrapper_585200fa-6299-4cd7-a5c0-98a2540a344c'\u001b[0m\u001b[1;33m)\u001b[0m\u001b[1;33m\u001b[0m\u001b[1;33m\u001b[0m\u001b[0m\n\u001b[0m\u001b[0;32m      8\u001b[0m \u001b[0mdataset\u001b[0m \u001b[1;33m=\u001b[0m \u001b[0mpd\u001b[0m\u001b[1;33m.\u001b[0m\u001b[0mread_csv\u001b[0m\u001b[1;33m(\u001b[0m\u001b[1;34m'input_df_bb752256-60c5-455b-a93e-0794487a5373.csv'\u001b[0m\u001b[1;33m)\u001b[0m\u001b[1;33m\u001b[0m\u001b[1;33m\u001b[0m\u001b[0m\n\u001b[0;32m      9\u001b[0m \u001b[1;33m\u001b[0m\u001b[0m\n",
      "\u001b[1;31mFileNotFoundError\u001b[0m: [WinError 2] The system cannot find the file specified: 'C:/Users/P_W_D/PythonEditorWrapper_585200fa-6299-4cd7-a5c0-98a2540a344c'"
     ]
    }
   ],
   "source": [
    "# Prolog - Auto Generated #\n",
    "import os, uuid, matplotlib\n",
    "matplotlib.use('Agg')\n",
    "import matplotlib.pyplot\n",
    "import pandas as pd\n",
    "\n",
    "os.chdir(u'C:/Users/P_W_D/PythonEditorWrapper_585200fa-6299-4cd7-a5c0-98a2540a344c')\n",
    "dataset = pd.read_csv('input_df_bb752256-60c5-455b-a93e-0794487a5373.csv')\n",
    "\n",
    "matplotlib.pyplot.figure(figsize=(5.55555555555556,4.16666666666667))\n",
    "matplotlib.pyplot.show = lambda args=None,kw=None: matplotlib.pyplot.savefig(str(uuid.uuid1()))\n",
    "# Original Script. Please update your script content here and once completed copy below section back to the original editing window #\n",
    "##############################"
   ]
  },
  {
   "cell_type": "code",
   "execution_count": 21,
   "metadata": {},
   "outputs": [
    {
     "data": {
      "text/plain": [
       "<function matplotlib.pyplot.show(close=None, block=None)>"
      ]
     },
     "execution_count": 21,
     "metadata": {},
     "output_type": "execute_result"
    },
    {
     "data": {
      "image/png": "[encoded data removed]",
      "text/plain": [
       "<Figure size 432x288 with 1 Axes>"
      ]
     },
     "metadata": {},
     "output_type": "display_data"
    }
   ],
   "source": [
    "import os, sys\n",
    "import matplotlib\n",
    "from matplotlib import cm\n",
    "from matplotlib import pyplot as plt\n",
    "import numpy as np\n",
    "from matplotlib.patches import Circle, Wedge, Rectangle\n",
    "import pandas as pd\n",
    "\n",
    "dataset = {\n",
    "    'Value': [13]\n",
    "    , 'Min': [0]\n",
    "    , 'Max': [15]\n",
    "    , 'L1': [3]\n",
    "    , 'L2': [5]\n",
    "    , 'L3': [7]\n",
    "    , 'L4': [np.nan]\n",
    "}\n",
    "dataset = pd.DataFrame(dataset)\n",
    "\n",
    "datalist = dataset.values.tolist()[0]\n",
    "\n",
    "g_val = datalist[0]\n",
    "g_min = datalist[1]\n",
    "g_max = datalist[2]\n",
    "g_l = [x for x in datalist[3:] if np.isnan(x) == False]\n",
    "\n",
    "gauge(labels= g_l, cval= g_val, cmin= g_min, cmax= g_max)\n",
    "plt.show"
   ]
  },
  {
   "cell_type": "code",
   "execution_count": 18,
   "metadata": {},
   "outputs": [],
   "source": [
    "def angle_conversion(orig_val, orig_min, orig_max):\n",
    "    val = (orig_val - orig_min) / (orig_max - orig_min) * 180\n",
    "    val = abs(val-180)\n",
    "    return val\n",
    "\n",
    "\n",
    "def rot_text(ang): \n",
    "    rotation = np.degrees(np.radians(ang) * np.pi / np.pi - np.radians(90))\n",
    "    return rotation\n",
    "\n",
    "\n",
    "def gauge(labels=[2,5,7], cval=8.5, cmin=0, cmax=12, title=''\n",
    "    , fname=False, label_r = .42, arc_r = .4, arc_w = .12):\n",
    "    \"\"\"\n",
    "    Plot a gauge KPI visual given interval data \n",
    "    \"\"\"\n",
    "\n",
    "    label_offset = .02\n",
    "    pos = angle_conversion(cval, cmin, cmax)\n",
    "    N = len(labels)+2\n",
    "\n",
    "    \"\"\"\n",
    "    Color Assignment\n",
    "    \"\"\"\n",
    "    colors = {\n",
    "        2: ['#003415','#ED1C24']\n",
    "        , 3: ['#003415','#FFCC00','#ED1C24']\n",
    "        , 4: ['#003415', '#007A00','#FFCC00','#ED1C24']\n",
    "        , 5: ['#003415', '#007A00', '#FFCC00','#F25900','#ED1C24']\n",
    "    }\n",
    "    colors = colors[len(labels)+1]\n",
    "\n",
    "    \"\"\"\n",
    "    Begin Plotting\n",
    "    \"\"\"\n",
    "    fig, ax = plt.subplots()\n",
    "\n",
    "    mid_points = []\n",
    "    for x in labels:\n",
    "        mid_points.append(angle_conversion(x, cmin, cmax))\n",
    "\n",
    "    start = []\n",
    "    end = []\n",
    "    for i, val in enumerate(mid_points):\n",
    "        if i == 0:\n",
    "            end.append(180)\n",
    "            start.append(val)\n",
    "        else:\n",
    "            end.append(mid_points[i-1]) \n",
    "            start.append(val)\n",
    "    end.append(mid_points[i])\n",
    "    start.append(0)\n",
    "\n",
    "    ang_range = np.c_[start, end]\n",
    "\n",
    "    \"\"\"\n",
    "    plots the sectors and the arcs\n",
    "    \"\"\"\n",
    "    patches = []\n",
    "    for ang, c in zip(ang_range, colors): \n",
    "        # Sector Arcs\n",
    "        patches.append(Wedge((0.,0.), label_r+label_offset, *ang, facecolor='w'))\n",
    "        # Inner White Area\n",
    "        patches.append(Wedge((0.,0.), arc_r, *ang, width=arc_w, facecolor=c, alpha=0.5))\n",
    "\n",
    "    [ax.add_patch(p) for p in patches]\n",
    "\n",
    "\n",
    "    \"\"\"\n",
    "    Set the interval labels\n",
    "    \"\"\"\n",
    "    points = [180, *mid_points, 0]\n",
    "    labels = [cmin, *labels, cmax]\n",
    "    for point, lab in zip(points, labels): \n",
    "\n",
    "        ax.text(label_r * np.cos(np.radians(point)), label_r * np.sin(np.radians(point)), lab, \\\n",
    "            horizontalalignment='center', verticalalignment='center', fontsize=16, \\\n",
    "            fontweight='bold', rotation = rot_text(point))\n",
    "\n",
    "    ax.text((arc_r-arc_w/2) * np.cos(np.radians(pos)), \n",
    "        (arc_r-arc_w/2) * np.sin(np.radians(pos)), cval,\n",
    "        horizontalalignment='center', verticalalignment='center', fontsize=16,\n",
    "        fontweight='bold', rotation = rot_text(pos))\n",
    "\n",
    "    \"\"\"\n",
    "    Set the bottom banner and title\n",
    "    \"\"\"\n",
    "    r = Rectangle((-label_r-label_offset,-0.05),2*(label_r+label_offset),0.05, facecolor='w', lw=2)\n",
    "    ax.add_patch(r)\n",
    "\n",
    "    ax.text(0, -0.05, title, horizontalalignment='center', \\\n",
    "            verticalalignment='center', fontsize=22, fontweight='bold')\n",
    "\n",
    "    \"\"\"\n",
    "    Plot the arrow\n",
    "    \"\"\"\n",
    "    ax.arrow(0, 0, 0.225 * np.cos(np.radians(pos)), 0.225 * np.sin(np.radians(pos)), \\\n",
    "                    width=0.04, head_width=0.09, head_length=0.1, fc='k', ec='k')\n",
    "\n",
    "    ax.add_patch(Circle((0, 0), radius=0.02, facecolor='k'))\n",
    "    ax.add_patch(Circle((0, 0), radius=0.01, facecolor='w', zorder=11))\n",
    "\n",
    "    \"\"\"\n",
    "    removes frame and ticks, and makes axis equal and tight\n",
    "    \"\"\"\n",
    "    ax.set_frame_on(False)\n",
    "    ax.axes.set_xticks([])\n",
    "    ax.axes.set_yticks([])\n",
    "    ax.axis('equal')\n",
    "    plt.tight_layout()"
   ]
  }
 ],
 "metadata": {
  "interpreter": {
   "hash": "223390d94bb700125c8e04a95170b14bf00dd944d1ea48898bb503806ce12c47"
  },
  "kernelspec": {
   "display_name": "Python 3.7.3 64-bit ('.venv': pipenv)",
   "name": "python3"
  },
  "language_info": {
   "codemirror_mode": {
    "name": "ipython",
    "version": 3
   },
   "file_extension": ".py",
   "mimetype": "text/x-python",
   "name": "python",
   "nbconvert_exporter": "python",
   "pygments_lexer": "ipython3",
   "version": "3.7.3"
  },
  "orig_nbformat": 4
 },
 "nbformat": 4,
 "nbformat_minor": 2
}
